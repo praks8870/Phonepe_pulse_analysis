{
 "cells": [
  {
   "cell_type": "code",
   "execution_count": 1,
   "metadata": {},
   "outputs": [],
   "source": [
    "import pandas as pd\n",
    "import json\n",
    "import os"
   ]
  },
  {
   "cell_type": "code",
   "execution_count": 2,
   "metadata": {},
   "outputs": [],
   "source": [
    "path = \"D:\\\\phonepe_project\\\\pulse\\\\data\\\\top\\\\user\\\\country\\\\india\\\\state\"\n",
    "path_a = os.listdir(path)"
   ]
  },
  {
   "cell_type": "code",
   "execution_count": 5,
   "metadata": {},
   "outputs": [],
   "source": [
    "std6 = {'state':[], 'year':[],'quater':[],'pincode':[], 'registered_users':[]}\n",
    "\n",
    "for i in path_a:\n",
    "    path_yr = path+\"\\\\\"+i+\"\\\\\"\n",
    "    year = os.listdir(path_yr)\n",
    "\n",
    "    for j in year:\n",
    "        path_file = path_yr + j\n",
    "        path_n = os.listdir(path_file)\n",
    "\n",
    "        for k in path_n:\n",
    "            asd = path_file + \"\\\\\" + k\n",
    "            data_n = open(asd, \"r\")\n",
    "            output = json.load(data_n)\n",
    "\n",
    "            for l in output['data']['pincodes']:\n",
    "                pincode = l['name']\n",
    "                users = l['registeredUsers']\n",
    "                std6['pincode'].append(pincode)\n",
    "                std6['registered_users'].append(users)\n",
    "                std6['state'].append(i)\n",
    "                std6['year'].append(j)\n",
    "                std6['quater'].append(int(k.strip('.json')))\n",
    "\n",
    "df6 = pd.DataFrame(std6)"
   ]
  },
  {
   "cell_type": "code",
   "execution_count": 6,
   "metadata": {},
   "outputs": [
    {
     "data": {
      "text/html": [
       "<div>\n",
       "<style scoped>\n",
       "    .dataframe tbody tr th:only-of-type {\n",
       "        vertical-align: middle;\n",
       "    }\n",
       "\n",
       "    .dataframe tbody tr th {\n",
       "        vertical-align: top;\n",
       "    }\n",
       "\n",
       "    .dataframe thead th {\n",
       "        text-align: right;\n",
       "    }\n",
       "</style>\n",
       "<table border=\"1\" class=\"dataframe\">\n",
       "  <thead>\n",
       "    <tr style=\"text-align: right;\">\n",
       "      <th></th>\n",
       "      <th>state</th>\n",
       "      <th>year</th>\n",
       "      <th>quater</th>\n",
       "      <th>pincode</th>\n",
       "      <th>registered_users</th>\n",
       "    </tr>\n",
       "  </thead>\n",
       "  <tbody>\n",
       "    <tr>\n",
       "      <th>0</th>\n",
       "      <td>andaman-&amp;-nicobar-islands</td>\n",
       "      <td>2018</td>\n",
       "      <td>1</td>\n",
       "      <td>744103</td>\n",
       "      <td>1608</td>\n",
       "    </tr>\n",
       "    <tr>\n",
       "      <th>1</th>\n",
       "      <td>andaman-&amp;-nicobar-islands</td>\n",
       "      <td>2018</td>\n",
       "      <td>1</td>\n",
       "      <td>744101</td>\n",
       "      <td>1108</td>\n",
       "    </tr>\n",
       "    <tr>\n",
       "      <th>2</th>\n",
       "      <td>andaman-&amp;-nicobar-islands</td>\n",
       "      <td>2018</td>\n",
       "      <td>1</td>\n",
       "      <td>744105</td>\n",
       "      <td>1075</td>\n",
       "    </tr>\n",
       "    <tr>\n",
       "      <th>3</th>\n",
       "      <td>andaman-&amp;-nicobar-islands</td>\n",
       "      <td>2018</td>\n",
       "      <td>1</td>\n",
       "      <td>744102</td>\n",
       "      <td>1006</td>\n",
       "    </tr>\n",
       "    <tr>\n",
       "      <th>4</th>\n",
       "      <td>andaman-&amp;-nicobar-islands</td>\n",
       "      <td>2018</td>\n",
       "      <td>1</td>\n",
       "      <td>744104</td>\n",
       "      <td>272</td>\n",
       "    </tr>\n",
       "    <tr>\n",
       "      <th>...</th>\n",
       "      <td>...</td>\n",
       "      <td>...</td>\n",
       "      <td>...</td>\n",
       "      <td>...</td>\n",
       "      <td>...</td>\n",
       "    </tr>\n",
       "    <tr>\n",
       "      <th>8206</th>\n",
       "      <td>west-bengal</td>\n",
       "      <td>2023</td>\n",
       "      <td>3</td>\n",
       "      <td>700015</td>\n",
       "      <td>122316</td>\n",
       "    </tr>\n",
       "    <tr>\n",
       "      <th>8207</th>\n",
       "      <td>west-bengal</td>\n",
       "      <td>2023</td>\n",
       "      <td>3</td>\n",
       "      <td>742304</td>\n",
       "      <td>119245</td>\n",
       "    </tr>\n",
       "    <tr>\n",
       "      <th>8208</th>\n",
       "      <td>west-bengal</td>\n",
       "      <td>2023</td>\n",
       "      <td>3</td>\n",
       "      <td>721101</td>\n",
       "      <td>118798</td>\n",
       "    </tr>\n",
       "    <tr>\n",
       "      <th>8209</th>\n",
       "      <td>west-bengal</td>\n",
       "      <td>2023</td>\n",
       "      <td>3</td>\n",
       "      <td>700150</td>\n",
       "      <td>114987</td>\n",
       "    </tr>\n",
       "    <tr>\n",
       "      <th>8210</th>\n",
       "      <td>west-bengal</td>\n",
       "      <td>2023</td>\n",
       "      <td>3</td>\n",
       "      <td>734006</td>\n",
       "      <td>113991</td>\n",
       "    </tr>\n",
       "  </tbody>\n",
       "</table>\n",
       "<p>8211 rows × 5 columns</p>\n",
       "</div>"
      ],
      "text/plain": [
       "                          state  year  quater pincode  registered_users\n",
       "0     andaman-&-nicobar-islands  2018       1  744103              1608\n",
       "1     andaman-&-nicobar-islands  2018       1  744101              1108\n",
       "2     andaman-&-nicobar-islands  2018       1  744105              1075\n",
       "3     andaman-&-nicobar-islands  2018       1  744102              1006\n",
       "4     andaman-&-nicobar-islands  2018       1  744104               272\n",
       "...                         ...   ...     ...     ...               ...\n",
       "8206                west-bengal  2023       3  700015            122316\n",
       "8207                west-bengal  2023       3  742304            119245\n",
       "8208                west-bengal  2023       3  721101            118798\n",
       "8209                west-bengal  2023       3  700150            114987\n",
       "8210                west-bengal  2023       3  734006            113991\n",
       "\n",
       "[8211 rows x 5 columns]"
      ]
     },
     "execution_count": 6,
     "metadata": {},
     "output_type": "execute_result"
    }
   ],
   "source": [
    "df6"
   ]
  },
  {
   "cell_type": "code",
   "execution_count": 7,
   "metadata": {},
   "outputs": [],
   "source": [
    "df6.to_csv(r'D:\\phonepe_project\\top_user.csv')"
   ]
  },
  {
   "cell_type": "code",
   "execution_count": 8,
   "metadata": {},
   "outputs": [],
   "source": [
    "import psycopg2\n",
    "\n",
    "mydb = psycopg2.connect(\n",
    "    host = \"localhost\",\n",
    "    database = \"postgres\",\n",
    "    user = \"postgres\",\n",
    "    password = \"123456\")\n",
    "\n",
    "mycursor = mydb.cursor()"
   ]
  },
  {
   "cell_type": "code",
   "execution_count": 10,
   "metadata": {},
   "outputs": [
    {
     "name": "stdout",
     "output_type": "stream",
     "text": [
      "Tables created successfully.\n"
     ]
    }
   ],
   "source": [
    "query6 = \"\"\"\n",
    "            CREATE TABLE IF NOT EXISTS top_user(\n",
    "                state VARCHAR(255),\n",
    "                year VARCHAR(4),\n",
    "                quater INT, \n",
    "                pincode VARCHAR(255), \n",
    "                registered_users INT\n",
    "                )\n",
    "\n",
    "            \"\"\" \n",
    "\n",
    "try:\n",
    "    mycursor.execute(query6)\n",
    "    mydb.commit()\n",
    "    print(\"Tables created successfully.\")\n",
    "except Exception as e:\n",
    "    print(\"Error:\", e)\n",
    "    mydb.rollback()"
   ]
  },
  {
   "cell_type": "code",
   "execution_count": 11,
   "metadata": {},
   "outputs": [
    {
     "name": "stdout",
     "output_type": "stream",
     "text": [
      "Data inserted successfully.\n"
     ]
    }
   ],
   "source": [
    "import pandas as pd\n",
    "from sqlalchemy import create_engine\n",
    "\n",
    "# PostgreSQL database connection parameters\n",
    "db_config = {\n",
    "    'user': 'postgres',\n",
    "    'password': '123456',\n",
    "    'host': 'localhost',\n",
    "    'port': '5432',\n",
    "    'database': 'postgres',\n",
    "}\n",
    "\n",
    "# Create a SQLAlchemy engine\n",
    "engine = create_engine(f'postgresql+psycopg2://{db_config[\"user\"]}:{db_config[\"password\"]}@{db_config[\"host\"]}:{db_config[\"port\"]}/{db_config[\"database\"]}')\n",
    "\n",
    "# CSV file path\n",
    "csv_file_path = 'D:\\\\phonepe_project\\\\top_user.csv'\n",
    "\n",
    "# Read CSV file into a pandas DataFrame\n",
    "df = pd.read_csv(csv_file_path)\n",
    "\n",
    "# Insert data into PostgreSQL table\n",
    "try:\n",
    "    df.to_sql('top_user', con=engine, if_exists='replace', index=True)\n",
    "    print(\"Data inserted successfully.\")\n",
    "except Exception as e:\n",
    "    print(\"Error:\", e)\n",
    "finally:\n",
    "    engine.dispose()  # Close the database connection\n"
   ]
  }
 ],
 "metadata": {
  "kernelspec": {
   "display_name": "Python 3",
   "language": "python",
   "name": "python3"
  },
  "language_info": {
   "codemirror_mode": {
    "name": "ipython",
    "version": 3
   },
   "file_extension": ".py",
   "mimetype": "text/x-python",
   "name": "python",
   "nbconvert_exporter": "python",
   "pygments_lexer": "ipython3",
   "version": "3.11.4"
  }
 },
 "nbformat": 4,
 "nbformat_minor": 2
}
